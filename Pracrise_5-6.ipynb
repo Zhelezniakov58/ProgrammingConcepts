{
 "cells": [
  {
   "cell_type": "code",
   "execution_count": 2,
   "id": "8dbce7ce",
   "metadata": {},
   "outputs": [
    {
     "name": "stdout",
     "output_type": "stream",
     "text": [
      "50.0\n"
     ]
    }
   ],
   "source": [
    "from math import *\n",
    "def calculate_percentage(value, percent):\n",
    "    return value/ percent *100\n",
    "print(calculate_percentage(50,100))"
   ]
  },
  {
   "cell_type": "code",
   "execution_count": null,
   "id": "f2eec16d",
   "metadata": {},
   "outputs": [],
   "source": [
    "def add_vat(price, rate=0.2):\n",
    "    return price * (1 + rate)\n"
   ]
  },
  {
   "cell_type": "code",
   "execution_count": 6,
   "id": "0333cdf9",
   "metadata": {},
   "outputs": [
    {
     "name": "stdout",
     "output_type": "stream",
     "text": [
      "3.5\n"
     ]
    }
   ],
   "source": [
    "def average_spending(*args):\n",
    "    return sum(args) / len(args)\n",
    "print(average_spending(2, 5))"
   ]
  },
  {
   "cell_type": "code",
   "execution_count": 10,
   "id": "6de7eb6b",
   "metadata": {},
   "outputs": [
    {
     "name": "stdout",
     "output_type": "stream",
     "text": [
      "5\n"
     ]
    }
   ],
   "source": [
    "from math import ceil\n",
    "print(ceil(float(input(\"Число\"))))"
   ]
  },
  {
   "cell_type": "code",
   "execution_count": null,
   "id": "cf8e3f58",
   "metadata": {},
   "outputs": [],
   "source": [
    "def ompare_spending(day1, day2):\n",
    "    if day1 > day2:\n",
    "        print(day1)\n",
    "    else:\n",
    "        print(day2)\n",
    "        "
   ]
  },
  {
   "cell_type": "code",
   "execution_count": null,
   "id": "f58fd8ee",
   "metadata": {},
   "outputs": [],
   "source": [
    "def discounted_price(price, discount):\n",
    "    return price * (1 - discount / 100)"
   ]
  },
  {
   "cell_type": "code",
   "execution_count": 17,
   "id": "26e4c6b2",
   "metadata": {},
   "outputs": [
    {
     "name": "stdout",
     "output_type": "stream",
     "text": [
      "Людинв A витратила 18\n"
     ]
    }
   ],
   "source": [
    "def generate_report(name, *expenses):\n",
    "    print(f'Людинв {name} витратила {sum(expenses)}')\n",
    "generate_report(\"A\", 5, 6, 7)"
   ]
  },
  {
   "cell_type": "code",
   "execution_count": 32,
   "id": "3932da6f",
   "metadata": {},
   "outputs": [
    {
     "ename": "ValueError",
     "evalue": "invalid literal for int() with base 10: ''",
     "output_type": "error",
     "traceback": [
      "\u001b[0;31m---------------------------------------------------------------------------\u001b[0m",
      "\u001b[0;31mValueError\u001b[0m                                Traceback (most recent call last)",
      "Cell \u001b[0;32mIn[32], line 2\u001b[0m\n\u001b[1;32m      1\u001b[0m items \u001b[38;5;241m=\u001b[39m {}\n\u001b[0;32m----> 2\u001b[0m amount \u001b[38;5;241m=\u001b[39m \u001b[38;5;28;43mint\u001b[39;49m\u001b[43m(\u001b[49m\u001b[38;5;28;43minput\u001b[39;49m\u001b[43m(\u001b[49m\u001b[38;5;124;43m\"\u001b[39;49m\u001b[38;5;124;43mКількість товарів :\u001b[39;49m\u001b[38;5;124;43m\"\u001b[39;49m\u001b[43m)\u001b[49m\u001b[43m)\u001b[49m\n\u001b[1;32m      3\u001b[0m \u001b[38;5;28;01mwhile\u001b[39;00m \u001b[38;5;28mlen\u001b[39m(items) \u001b[38;5;241m<\u001b[39m amount:\n\u001b[1;32m      4\u001b[0m     \u001b[38;5;28;01mtry\u001b[39;00m:\n",
      "\u001b[0;31mValueError\u001b[0m: invalid literal for int() with base 10: ''"
     ]
    }
   ],
   "source": [
    "\n",
    "items = {}\n",
    "amount = int(input(\"Кількість товарів :\"))\n",
    "while len(items) < amount:\n",
    "    try:\n",
    "        items[input(\"Назва\")] = float(input(\"Ціна\"))\n",
    "    except:\n",
    "        print(\"Не число\")\n",
    "sum = 0 \n",
    "for key, value in items.items():\n",
    "    sum += value\n",
    "print(f\"Кількість :{len(items.items())}\")\n",
    "print(f\"Сума :{sum(items.items())}\")\n",
    "print(f\"Найбільше число :{max(items.items())}\")\n",
    "print(f\"Сума :{sum(items.items()) / len(items.items())}\")\n",
    "\n"
   ]
  },
  {
   "cell_type": "code",
   "execution_count": null,
   "id": "ac6e6524",
   "metadata": {},
   "outputs": [],
   "source": [
    "def analyze_budget(income, *expenses):\n",
    "    sum = 0\n",
    "    for elements  in expenses:\n",
    "        sum += elements\n",
    "    "
   ]
  },
  {
   "cell_type": "code",
   "execution_count": 35,
   "id": "5f871447",
   "metadata": {},
   "outputs": [
    {
     "name": "stdout",
     "output_type": "stream",
     "text": [
      "[0, 4, 16, 36, 64, 100]\n"
     ]
    }
   ],
   "source": [
    "list1 = [n ** 2 for n in range(11) if n % 2 == 0 ] \n",
    "print(list1)"
   ]
  },
  {
   "cell_type": "code",
   "execution_count": null,
   "id": "f56efc0a",
   "metadata": {},
   "outputs": [],
   "source": []
  }
 ],
 "metadata": {
  "kernelspec": {
   "display_name": "Python 3",
   "language": "python",
   "name": "python3"
  },
  "language_info": {
   "codemirror_mode": {
    "name": "ipython",
    "version": 3
   },
   "file_extension": ".py",
   "mimetype": "text/x-python",
   "name": "python",
   "nbconvert_exporter": "python",
   "pygments_lexer": "ipython3",
   "version": "3.11.3"
  }
 },
 "nbformat": 4,
 "nbformat_minor": 5
}
