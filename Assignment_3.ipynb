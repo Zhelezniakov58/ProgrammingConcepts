{
 "cells": [
  {
   "cell_type": "code",
   "execution_count": 7,
   "id": "3d3759a6",
   "metadata": {},
   "outputs": [
    {
     "name": "stdout",
     "output_type": "stream",
     "text": [
      "[2, 7, 3, 4, 2, 9, 6, 8, 2]\n",
      "[1, 5, 8]\n",
      "[2, 7, 3]\n",
      "Завдання 1: 57\n",
      "Завдання 2: 1\n",
      "Завдання 3: [9, 8, 8, 7, 6, 5, 4, 3, 2, 2, 2, 1]\n",
      "Завдання 4: 9 7 5 3 1 \t\n",
      "Завдання 5: [18, 16, 16, 14, 12, 10, 8, 6, 4, 4, 4, 2]\n"
     ]
    }
   ],
   "source": [
    "#Elemntary level\n",
    "list_1 = [1, 5, 8, 2, 7, 3, 4, 2, 9, 6, 8, 2]\n",
    "print(list_1[3:])\n",
    "print(list_1[:3])\n",
    "print(list_1[3:6])\n",
    "#1\n",
    "print(\"Завдання 1:\", sum(list_1))\n",
    "#2\n",
    "print(\"Завдання 2:\", min(list_1))\n",
    "#3\n",
    "list_1.sort(reverse=True)\n",
    "print(\"Завдання 3:\",list_1)\n",
    "#4\n",
    "for n in range(len(list_1)):\n",
    "    if list_1[n] % 2 == 1:\n",
    "        if n == 0:\n",
    "           print(\"Завдання 4:\", list_1[n], end=' ')\n",
    "        else:\n",
    "            print(list_1[n], end=' ')\n",
    "print('\\t')\n",
    "#5\n",
    "number = 2\n",
    "list_2 = list_1.copy()\n",
    "for n in range(len(list_1)):\n",
    "    list_2[n] = list_2[n] * number\n",
    "print(\"Завдання 5:\",list_2)\n"
   ]
  },
  {
   "cell_type": "code",
   "execution_count": 20,
   "id": "7375f41b",
   "metadata": {},
   "outputs": [
    {
     "name": "stdout",
     "output_type": "stream",
     "text": [
      "Завдання 1: [1, 5, 2, 7, 3, 4, 2, 6, 2]\n",
      "Завдання 2: 4.75\n",
      "Завдання 3: 7\n",
      "Завдання 4: 32\n",
      "Завдання 5: [1, 25, 64, 4, 49, 9, 16, 4, 81, 36, 64, 4]\n",
      "Завдання 6: [1, 5, 8, 2, 7, 3, 4, 2, 9, 6, 8, 2]\n",
      "Завдання 7: ['retry', 'replay']\n",
      "Завдання 8: 23\n",
      "Завдання 9: ['apple', 'banana', 'cherry', 'retry', 'replay']\n",
      "Завдання 10: [False, False, True, True, False, False, True, True, False, True, True, True]\n"
     ]
    }
   ],
   "source": [
    "#Easy level\n",
    "#1\n",
    "list2 =[]\n",
    "list_1 = [1, 5, 8, 2, 7, 3, 4, 2, 9, 6, 8, 2]\n",
    "for elements in list_1:\n",
    "    if elements < 8:\n",
    "        list2.append(elements)\n",
    "print(\"Завдання 1:\", list2)\n",
    "#2\n",
    "positive_list = []\n",
    "for elements in list_1:\n",
    "    if elements > 0:\n",
    "        positive_list.append(elements)\n",
    "print(\"Завдання 2:\", sum(positive_list) / len(positive_list))\n",
    "#3\n",
    "print(\"Завдання 3:\", max(list2))\n",
    "#4\n",
    "sum1 = 0\n",
    "for elements in list_1:\n",
    "    if elements % 2 == 0:\n",
    "        sum1 += elements\n",
    "print(\"Завдання 4:\", sum1)\n",
    "#5\n",
    "squares_list = []\n",
    "for elements in list_1:\n",
    "    squares_list.append(elements ** 2)\n",
    "print(\"Завдання 5:\", squares_list)\n",
    "#6\n",
    "positive_list1 = []\n",
    "for elements in list_1:\n",
    "    if elements > 0:\n",
    "        positive_list1.append(elements)\n",
    "print(\"Завдання 6:\", positive_list1)\n",
    "#7\n",
    "words = ['cc', 'apple', 'banana', 'tenet', 'cherry', 'ABBA', 'retry', 'replay', 'H', ' ']\n",
    "words_with_re = []     \n",
    "for element in words:\n",
    "    if len(element) >= 2: \n",
    "        if element[0] == 'r' and element[1] == 'e':\n",
    "            words_with_re.append(element)\n",
    "print(\"Завдання 7:\",words_with_re)\n",
    "#8 \n",
    "print(\"Завдання 8:\", sum(list_1[:5]))\n",
    "#9\n",
    "from math import floor\n",
    "x = 0\n",
    "while x < len(words):\n",
    "    is_palindrome = True\n",
    "    for n in range(floor(len(words[x]) / 2)):\n",
    "        if words[x][n] != words[x][-n - 1]:\n",
    "            is_palindrome = False\n",
    "            break\n",
    "    if is_palindrome:   \n",
    "        words.remove(words[x])\n",
    "    else:\n",
    "        x += 1\n",
    "print(\"Завдання 9:\", words)  \n",
    "#10\n",
    "list_boolean = []\n",
    "for element in list_1:\n",
    "    list_boolean.append(element % 2 == 0)\n",
    "print(\"Завдання 10:\", list_boolean)\n",
    "        "
   ]
  },
  {
   "cell_type": "code",
   "execution_count": 19,
   "id": "4be945cb",
   "metadata": {},
   "outputs": [
    {
     "name": "stdout",
     "output_type": "stream",
     "text": [
      "Завдання 1: [8, 8, 4, 2, 2, 2]\n",
      "Завдання 2: [1, 2, 3, 6, 4, 5, 6, 7, 8, 9, 4, 1]\n",
      "Hello, my name is Sasha\n",
      "[9, 8, 8, 7, 6, 5, 4, 3, 2, 2, 2, 1]\n"
     ]
    }
   ],
   "source": [
    "#Medium level \n",
    "#1\n",
    "list_3 = []\n",
    "for element in list_1:\n",
    "    if element % 2 == 0  and element % 3 != 0:\n",
    "        list_3.append(element)\n",
    "print(\"Завдання 1:\", list_3)\n",
    "#2\n",
    "list_of_lists = [\n",
    "    [1, 2, 3, 6],\n",
    "    [4, 5 ,6],\n",
    "    [7, 8, 9, 4, 1]\n",
    "]\n",
    "list_4 = []\n",
    "for x in range(len(list_of_lists)):\n",
    "    for n in range(len(list_of_lists[x])):\n",
    "        list_4.append(list_of_lists[x][n])\n",
    "print(\"Завдання 2:\", list_4)\n",
    "#3\n",
    "text = \"Hello, my name is sasha\"\n",
    "S = text[18].upper()\n",
    "text = text[:18] + S + text[19:]\n",
    "print(text)\n",
    "#4\n",
    "list_1.sort(reverse=True)\n",
    "print(list_1)\n",
    "\n",
    "\n"
   ]
  },
  {
   "cell_type": "code",
   "execution_count": null,
   "id": "2ad837e6",
   "metadata": {},
   "outputs": [],
   "source": []
  }
 ],
 "metadata": {
  "kernelspec": {
   "display_name": "Python 3",
   "language": "python",
   "name": "python3"
  },
  "language_info": {
   "codemirror_mode": {
    "name": "ipython",
    "version": 3
   },
   "file_extension": ".py",
   "mimetype": "text/x-python",
   "name": "python",
   "nbconvert_exporter": "python",
   "pygments_lexer": "ipython3",
   "version": "3.11.3"
  }
 },
 "nbformat": 4,
 "nbformat_minor": 5
}
