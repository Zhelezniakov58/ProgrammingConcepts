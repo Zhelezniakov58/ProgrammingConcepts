{
 "cells": [
  {
   "cell_type": "code",
   "execution_count": 6,
   "id": "2fb2839e",
   "metadata": {},
   "outputs": [
    {
     "name": "stdout",
     "output_type": "stream",
     "text": [
      "Такого елемента немає у словнику.\n"
     ]
    }
   ],
   "source": [
    "friuts = {'apple': 1, 'banana': 2}\n",
    "try:\n",
    "    key = input(\"Ключ\")\n",
    "    print(friuts[key])\n",
    "except KeyError:\n",
    "    print(\"Такого елемента немає у словнику.\")\n",
    "\n"
   ]
  },
  {
   "cell_type": "code",
   "execution_count": 9,
   "id": "0869766c",
   "metadata": {},
   "outputs": [
    {
     "name": "stdout",
     "output_type": "stream",
     "text": [
      "Спроба доступу за межі рядка!\n"
     ]
    }
   ],
   "source": [
    "my_string = \"Python\"\n",
    "try:\n",
    "    print(my_string[11])\n",
    "except IndexError:\n",
    "    print(\"Спроба доступу за межі рядка!\")"
   ]
  },
  {
   "cell_type": "code",
   "execution_count": 28,
   "id": "d38d3dc6",
   "metadata": {},
   "outputs": [
    {
     "name": "stdout",
     "output_type": "stream",
     "text": [
      "Непідтримувана операція додавання для цих типів даних.\n"
     ]
    }
   ],
   "source": [
    "my_list = [1, 2, 3]\n",
    "try:\n",
    "    my_list + \"abc\"\n",
    "except TypeError:\n",
    "    print(\"Непідтримувана операція додавання для цих типів даних.\")"
   ]
  },
  {
   "cell_type": "code",
   "execution_count": null,
   "id": "73f5cf3a",
   "metadata": {},
   "outputs": [],
   "source": [
    "\n",
    "try:\n",
    "    with open(\"text_3.txt\", \"r\") as f:\n",
    "        text = f.read()\n",
    "        print(text)\n",
    "except FileNotFoundError:\n",
    "    with open(\"text_3.txt\", \"x\") as f:\n",
    "        f.write(\"0\")\n"
   ]
  },
  {
   "cell_type": "code",
   "execution_count": 40,
   "id": "27b8754f",
   "metadata": {},
   "outputs": [],
   "source": [
    "while True:\n",
    "    text_1 = input(\"Текст\") \n",
    "    if text_1 == \"стоп\":\n",
    "        break\n",
    "    with open(\"text_3.txt\", \"a+\") as f:\n",
    "        f.write(str(text_1) + \"\\n\")\n"
   ]
  },
  {
   "cell_type": "code",
   "execution_count": null,
   "id": "2c7ebafd",
   "metadata": {},
   "outputs": [],
   "source": []
  }
 ],
 "metadata": {
  "kernelspec": {
   "display_name": "Python 3",
   "language": "python",
   "name": "python3"
  },
  "language_info": {
   "codemirror_mode": {
    "name": "ipython",
    "version": 3
   },
   "file_extension": ".py",
   "mimetype": "text/x-python",
   "name": "python",
   "nbconvert_exporter": "python",
   "pygments_lexer": "ipython3",
   "version": "3.11.3"
  }
 },
 "nbformat": 4,
 "nbformat_minor": 5
}
