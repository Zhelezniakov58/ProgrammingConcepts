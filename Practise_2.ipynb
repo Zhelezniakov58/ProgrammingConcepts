{
 "cells": [
  {
   "cell_type": "code",
   "execution_count": 1,
   "metadata": {
    "colab": {
     "base_uri": "https://localhost:8080/"
    },
    "executionInfo": {
     "elapsed": 12505,
     "status": "ok",
     "timestamp": 1746800991976,
     "user": {
      "displayName": "Oleksandr Zhelezniakov",
      "userId": "12639389492175942873"
     },
     "user_tz": -180
    },
    "id": "KIczPVjnaWGH",
    "outputId": "7da9fd95-7494-4b7e-c097-638f9ef886b9"
   },
   "outputs": [
    {
     "name": "stdout",
     "output_type": "stream",
     "text": [
      "Ви отримаєте 635.0400000000001 грн\n"
     ]
    }
   ],
   "source": [
    "start_money = int(input('Ви вкладаєте ='))\n",
    "rate = int(input('rate ='))\n",
    "month = int(input('month ='))\n",
    "money = (1 + (rate * month / 12 * 0.01)) * start_money\n",
    "print(\"Ви отримаєте \" + str(money) + \" грн\")"
   ]
  },
  {
   "cell_type": "code",
   "execution_count": 2,
   "metadata": {
    "colab": {
     "base_uri": "https://localhost:8080/"
    },
    "executionInfo": {
     "elapsed": 61,
     "status": "ok",
     "timestamp": 1746798643265,
     "user": {
      "displayName": "Oleksandr Zhelezniakov",
      "userId": "12639389492175942873"
     },
     "user_tz": -180
    },
    "id": "os1tPv85lL-y",
    "outputId": "3354a23c-b9b5-4d18-b7bd-a5885bc0fa63"
   },
   "outputs": [
    {
     "name": "stdout",
     "output_type": "stream",
     "text": [
      "33\n",
      "144\n",
      "17.464285714285715\n",
      "(0.6207430386497654-0.784014081485694j)\n",
      "3\n",
      "9.0\n",
      "false\n",
      "true\n"
     ]
    }
   ],
   "source": [
    "\n",
    "x = 3\n",
    "y = 9\n",
    "print(2 * x + 3 * y)\n",
    "print(x ** 2 + 2 *x * y + y ** 2)\n",
    "print(0.25 * x + 13 / 7 *y)\n",
    "print(y ** ((4 * x - 2 * y) ** 0.5))\n",
    "print(x % y)\n",
    "print((y / x) ** 2)\n",
    "if x > y:\n",
    "  print(\"true\")\n",
    "elif y > x:\n",
    "  print(\"false\")\n",
    "if ( x ** 2) == y:\n",
    "  print(\"true\")\n"
   ]
  },
  {
   "cell_type": "code",
   "execution_count": 3,
   "metadata": {
    "colab": {
     "base_uri": "https://localhost:8080/"
    },
    "executionInfo": {
     "elapsed": 6,
     "status": "ok",
     "timestamp": 1746799578480,
     "user": {
      "displayName": "Oleksandr Zhelezniakov",
      "userId": "12639389492175942873"
     },
     "user_tz": -180
    },
    "id": "-2m1QRg0WFCp",
    "outputId": "355e2b00-e08a-4a72-9c3b-ef912f5605f0"
   },
   "outputs": [
    {
     "name": "stdout",
     "output_type": "stream",
     "text": [
      "False\n"
     ]
    }
   ],
   "source": [
    "a = 2\n",
    "b = 5\n",
    "c = 6\n",
    "d = 8\n",
    "print(((a > b) or (b > d)) and not(b == c) or (a == d))"
   ]
  },
  {
   "cell_type": "code",
   "execution_count": 4,
   "metadata": {
    "colab": {
     "base_uri": "https://localhost:8080/"
    },
    "executionInfo": {
     "elapsed": 7,
     "status": "ok",
     "timestamp": 1746799160262,
     "user": {
      "displayName": "Oleksandr Zhelezniakov",
      "userId": "12639389492175942873"
     },
     "user_tz": -180
    },
    "id": "NbtkidIqUggB",
    "outputId": "522b3b15-c726-4c24-e287-9ccac69c9b2a"
   },
   "outputs": [
    {
     "name": "stdout",
     "output_type": "stream",
     "text": [
      "яблоко дорівнює 15 гривень\n"
     ]
    }
   ],
   "source": [
    "price = 15\n",
    "name = \"яблоко\"\n",
    "item = name + \" дорівнює \" + str(price) + \" гривень\"\n",
    "print(item)\n"
   ]
  },
  {
   "cell_type": "code",
   "execution_count": null,
   "metadata": {
    "colab": {
     "base_uri": "https://localhost:8080/"
    },
    "executionInfo": {
     "elapsed": 4385,
     "status": "ok",
     "timestamp": 1746800276439,
     "user": {
      "displayName": "Oleksandr Zhelezniakov",
      "userId": "12639389492175942873"
     },
     "user_tz": -180
    },
    "id": "bscBBNEeYuRT",
    "outputId": "bd881e16-cf72-4fb0-b8ff-b2e9bc446776"
   },
   "outputs": [],
   "source": [
    "height = float(input(\"ріст =\"))\n",
    "weight = int(input(\"вага =\"))\n",
    "BMI = weight / (height ** 2)\n",
    "print(\"При вазі \" + str(weight) + \" та зрості \"  + str(height) + \" BMI дорівнює \" + str(BMI) )"
   ]
  },
  {
   "cell_type": "code",
   "execution_count": null,
   "metadata": {
    "id": "rzD9e7esOthe"
   },
   "outputs": [],
   "source": []
  }
 ],
 "metadata": {
  "colab": {
   "authorship_tag": "ABX9TyOSVe4/jav2MXL/jvfri10A",
   "provenance": []
  },
  "kernelspec": {
   "display_name": "Python 3",
   "name": "python3"
  },
  "language_info": {
   "codemirror_mode": {
    "name": "ipython",
    "version": 3
   },
   "file_extension": ".py",
   "mimetype": "text/x-python",
   "name": "python",
   "nbconvert_exporter": "python",
   "pygments_lexer": "ipython3",
   "version": "3.11.3"
  }
 },
 "nbformat": 4,
 "nbformat_minor": 0
}
