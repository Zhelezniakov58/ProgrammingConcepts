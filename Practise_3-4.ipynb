{
 "cells": [
  {
   "cell_type": "code",
   "execution_count": null,
   "id": "968aff5d",
   "metadata": {},
   "outputs": [],
   "source": [
    "n = int(input(\"number =\"))\n",
    "if n % 2 == 0:\n",
    "    print(n)\n",
    "else:\n",
    "    print(\"\")"
   ]
  },
  {
   "cell_type": "code",
   "execution_count": null,
   "id": "f7b1d1b7",
   "metadata": {},
   "outputs": [
    {
     "name": "stdout",
     "output_type": "stream",
     "text": [
      "Старайся більше\n"
     ]
    }
   ],
   "source": [
    "mark = float(input(\"mark =\"))\n",
    "if mark > 90:\n",
    "    print(\"Відміно\")\n",
    "elif 89 >= mark > 75:\n",
    "    print(\"Молодець\")\n",
    "else:\n",
    "    print(\"Старайся більше\")\n",
    "    "
   ]
  },
  {
   "cell_type": "code",
   "execution_count": 3,
   "id": "bb756989",
   "metadata": {},
   "outputs": [
    {
     "name": "stdout",
     "output_type": "stream",
     "text": [
      "Ціна без ПДВ 10 --> Ціна з ПДВ 12.0\n",
      "Ціна без ПДВ 15 --> Ціна з ПДВ 18.0\n",
      "Ціна без ПДВ 20 --> Ціна з ПДВ 24.0\n",
      "Ціна без ПДВ 25 --> Ціна з ПДВ 30.0\n",
      "Ціна без ПДВ 30 --> Ціна з ПДВ 36.0\n",
      "Ціна без ПДВ 35 --> Ціна з ПДВ 42.0\n",
      "Ціна без ПДВ 40 --> Ціна з ПДВ 48.0\n",
      "Ціна без ПДВ 45 --> Ціна з ПДВ 54.0\n",
      "Ціна без ПДВ 50 --> Ціна з ПДВ 60.0\n",
      "Ціна без ПДВ 55 --> Ціна з ПДВ 66.0\n",
      "Ціна без ПДВ 60 --> Ціна з ПДВ 72.0\n",
      "Ціна без ПДВ 65 --> Ціна з ПДВ 78.0\n",
      "Ціна без ПДВ 70 --> Ціна з ПДВ 84.0\n",
      "Ціна без ПДВ 75 --> Ціна з ПДВ 90.0\n",
      "Ціна без ПДВ 80 --> Ціна з ПДВ 96.0\n",
      "Ціна без ПДВ 85 --> Ціна з ПДВ 102.0\n",
      "Ціна без ПДВ 90 --> Ціна з ПДВ 108.0\n",
      "Ціна без ПДВ 95 --> Ціна з ПДВ 114.0\n",
      "Ціна без ПДВ 100 --> Ціна з ПДВ 120.0\n"
     ]
    }
   ],
   "source": [
    "\n",
    "for n in range(10,101,5):\n",
    "    print(\"Ціна без ПДВ \" + str(n) + \" --> Ціна з ПДВ \" + str(n * 1.2))"
   ]
  },
  {
   "cell_type": "code",
   "execution_count": null,
   "id": "4bac1bde",
   "metadata": {},
   "outputs": [
    {
     "name": "stdout",
     "output_type": "stream",
     "text": [
      "8\n"
     ]
    }
   ],
   "source": [
    "list1 =[]\n",
    "n = 0\n",
    "while len(list1) < 3:\n",
    "    n += 1\n",
    "    list1.append(int(input(\"Число\" +str(n))))\n",
    "print(max(list1))"
   ]
  },
  {
   "cell_type": "code",
   "execution_count": null,
   "id": "08152863",
   "metadata": {},
   "outputs": [
    {
     "name": "stdout",
     "output_type": "stream",
     "text": [
      "Місяця = 1 Сума = 1300\n",
      "Місяця = 2 Сума = 1600\n",
      "Місяця = 3 Сума = 1900\n",
      "Місяця = 4 Сума = 2200\n",
      "Місяця = 5 Сума = 2500\n",
      "Місяця = 6 Сума = 2800\n",
      "Місяця = 7 Сума = 3100\n",
      "Місяця = 8 Сума = 3400\n",
      "Місяця = 9 Сума = 3700\n",
      "Місяця = 10 Сума = 4000\n",
      "Місяця = 11 Сума = 4300\n",
      "Місяця = 12 Сума = 4600\n",
      "Місяця = 13 Сума = 4900\n",
      "Місяця = 14 Сума = 5200\n"
     ]
    }
   ],
   "source": [
    "month = 0\n",
    "sum = 1000\n",
    "while True:\n",
    "    if sum < 5000:\n",
    "        n += 1\n",
    "        sum += 300\n",
    "        print(\"Місяць = \" + str(month) + \" Сума = \" + str(sum))\n",
    "    else:\n",
    "        break\n"
   ]
  },
  {
   "cell_type": "code",
   "execution_count": 26,
   "id": "91c5c161",
   "metadata": {},
   "outputs": [
    {
     "name": "stdout",
     "output_type": "stream",
     "text": [
      "Високосний\n"
     ]
    }
   ],
   "source": [
    "year = int(input(\"year \"))\n",
    "if (year % 4 == 0 ) and ((year % 100 != 0) or ( year % 400 == 0)):\n",
    "    print(\"Високосний\")\n",
    "else:\n",
    "    print(\"Звичайний\")"
   ]
  },
  {
   "cell_type": "markdown",
   "id": "efdafedf",
   "metadata": {},
   "source": [
    "list1 = [3 ,7, 2, 9, 5 ]\n",
    "avg = sum(list1) / len(lis1) \n",
    "pint(avg)\n"
   ]
  },
  {
   "cell_type": "code",
   "execution_count": 3,
   "id": "e0225eb2",
   "metadata": {},
   "outputs": [
    {
     "name": "stdout",
     "output_type": "stream",
     "text": [
      "5.2\n"
     ]
    }
   ],
   "source": [
    "list1 = [3 ,7, 2, 9, 5 ]\n",
    "avg = sum(list1) / len(list1) \n",
    "print(avg)\n"
   ]
  },
  {
   "cell_type": "code",
   "execution_count": 40,
   "id": "15eb4a6c",
   "metadata": {},
   "outputs": [
    {
     "name": "stdout",
     "output_type": "stream",
     "text": [
      "[10, 9, 8, 7, 4, 3, 2]\n"
     ]
    }
   ],
   "source": [
    "nums = [4, 7, 2, 4, 8, 9, 2, 10, 3, 8]\n",
    "nums_set = list(set(nums))\n",
    "for element in nums_set:\n",
    "    if nums[n] % 2 == 0:\n",
    "        nums_set.remove(element)\n",
    "nums_set.sort(reverse = True)\n",
    "print(nums_set)\n"
   ]
  },
  {
   "cell_type": "code",
   "execution_count": 49,
   "id": "08210a3c",
   "metadata": {},
   "outputs": [
    {
     "name": "stdout",
     "output_type": "stream",
     "text": [
      "65\n"
     ]
    }
   ],
   "source": [
    "prices = {\n",
    "    \"apple\": 12,\n",
    "    \"banana\": 8,\n",
    "    \"milk\": 25,\n",
    "    \"bread\": 20\n",
    "}\n",
    "print(prices[\"apple\"] + prices[\"banana\"] + prices[\"milk\"] + prices[\"bread\"])"
   ]
  },
  {
   "cell_type": "code",
   "execution_count": 81,
   "id": "c932ebeb",
   "metadata": {},
   "outputs": [],
   "source": [
    "people = {\n",
    "    \"Anna\": \"Kyiv\",\n",
    "    \"Bohdan\": \"Lviv\",\n",
    "    \"Oksana\": \"Kyiv\",\n",
    "    \"Dmytro\": \"Odesa\",\n",
    "}\n"
   ]
  },
  {
   "cell_type": "code",
   "execution_count": null,
   "id": "1c8a04b6",
   "metadata": {},
   "outputs": [
    {
     "name": "stdout",
     "output_type": "stream",
     "text": [
      "Anna\n",
      "Bohdan\n",
      "Oksana\n",
      "Dmytro\n",
      "{'Kyiv': ['Anna', 'Oksana'], 'Lviv': ['Bohdan'], 'Odesa': ['Dmytro']}\n"
     ]
    }
   ],
   "source": [
    "cities = {}\n",
    "for name, city in people.items():\n",
    "    if city in cities:\n",
    "        cities[city].append(name)\n",
    "    else:\n",
    "        cities[city] = [name]\n",
    "    \n",
    "    #a = cities.get(value, [])\n",
    "    #a.append(key)\n",
    "    #cities[value] = a\n",
    "for key, value in people.items():\n",
    "    print(value)\n",
    "\n",
    "print(cities)"
   ]
  },
  {
   "cell_type": "code",
   "execution_count": 107,
   "id": "6a7a9efb",
   "metadata": {},
   "outputs": [
    {
     "name": "stdout",
     "output_type": "stream",
     "text": [
      "[1, 2, 3, 4]\n",
      "[1, 2, 3]\n",
      "4440600832\n",
      "4437948096\n"
     ]
    }
   ],
   "source": [
    "a = [1,2,3]\n",
    "b = a.copy()\n",
    "a.append(4)\n",
    "print(a)\n",
    "print(b)\n",
    "print(id(a))\n",
    "print(id(b))"
   ]
  },
  {
   "cell_type": "code",
   "execution_count": 98,
   "id": "97ca274c",
   "metadata": {},
   "outputs": [
    {
     "name": "stdout",
     "output_type": "stream",
     "text": [
      "Індекс студенту  = 3\f Середній бал = 85.66666666666667\n"
     ]
    }
   ],
   "source": [
    "grades = [\n",
    "    [90, 85, 88],\n",
    "    [75, 80, 79],\n",
    "    [95, 92, 96],\n",
    "    [88, 85, 84]\n",
    "]\n",
    "for element in grades:\n",
    "    avg_list = []\n",
    "    avg_list.append(sum(element) / len(element))\n",
    "for index, sublist in enumerate(grades):\n",
    "    if sum(sublist) / len(sublist) == max(avg_list):\n",
    "        print(\"Індекс студенту  = \" + str(index) +  \"\\f Середній бал = \" + str(max(avg_list)))\n",
    "\n",
    "\n"
   ]
  },
  {
   "cell_type": "code",
   "execution_count": 150,
   "id": "1bb7bfa3",
   "metadata": {},
   "outputs": [
    {
     "name": "stdout",
     "output_type": "stream",
     "text": [
      "32 40 69 \n",
      "66 81 133 \n",
      "102 126 211 \n"
     ]
    }
   ],
   "source": [
    "#line_1 = int(input(\"line 1 = \"))\n",
    "#colum_1 = int(input(\"colum 1 = \"))\n",
    "#line_2 = int(input(\"line 1 = \"))\n",
    "#colum_2 = int(input(\"colum 1 = \"))\n",
    "#print(\"Doesn't exsit\")\n",
    "matrix_1 = [\n",
    "    [3, 2, 3],\n",
    "    [4, 5, 6],\n",
    "    [7, 8, 9]\n",
    "    ]\n",
    "\n",
    "matrix_2 = [\n",
    "    [1, 2, 7],\n",
    "    [4, 5, 9],\n",
    "    [7, 8, 10]\n",
    "]\n",
    "\n",
    "def matrix_calculation(matrix_1, matrix_2):\n",
    "    if len(matrix_1[0]) != len(matrix_2):\n",
    "        print(\"Error\")\n",
    "        return None\n",
    "    matrix_new =[]\n",
    "    for i in range(len(matrix_1)):\n",
    "        matrix_new.append([])\n",
    "        for j in range(len(matrix_2[0])):\n",
    "            sum = 0\n",
    "            for n in range(len(matrix_1)):\n",
    "                sum += matrix_1[i][n] * matrix_2[n][j]\n",
    "            matrix_new[i].append(sum)\n",
    "    return matrix_new\n",
    "matrix_new = matrix_calculation(matrix_1, matrix_2)\n",
    "for n in range(len(matrix_new)):\n",
    "    for k in range(len(matrix_new[0])):\n",
    "        print(matrix_new[n][k], end=\" \")\n",
    "    print()\n",
    "    \n",
    "\n"
   ]
  },
  {
   "cell_type": "code",
   "execution_count": null,
   "id": "88e2bf14",
   "metadata": {},
   "outputs": [],
   "source": []
  }
 ],
 "metadata": {
  "kernelspec": {
   "display_name": "Python 3",
   "language": "python",
   "name": "python3"
  },
  "language_info": {
   "codemirror_mode": {
    "name": "ipython",
    "version": 3
   },
   "file_extension": ".py",
   "mimetype": "text/x-python",
   "name": "python",
   "nbconvert_exporter": "python",
   "pygments_lexer": "ipython3",
   "version": "3.11.3"
  }
 },
 "nbformat": 4,
 "nbformat_minor": 5
}
