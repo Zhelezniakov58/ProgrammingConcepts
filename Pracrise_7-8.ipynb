{
 "cells": [
  {
   "cell_type": "code",
   "execution_count": null,
   "id": "7a274c14",
   "metadata": {},
   "outputs": [],
   "source": [
    "def rozrakhunok_prostogo_vidsotka(osnovna_suma, stavka_vidsotka, period_rokiv ):\n",
    "    return round(osnovna_suma * stavka_vidsotka / 100 * period_rokiv, 2)\n",
    "\n",
    "\n"
   ]
  },
  {
   "cell_type": "code",
   "execution_count": 7,
   "id": "1956811f",
   "metadata": {},
   "outputs": [
    {
     "name": "stdout",
     "output_type": "stream",
     "text": [
      "1031.57\n"
     ]
    }
   ],
   "source": [
    "print(round(1031.567, 2))"
   ]
  },
  {
   "cell_type": "code",
   "execution_count": null,
   "id": "9f90d0c6",
   "metadata": {},
   "outputs": [],
   "source": [
    "def FV(potribna_suma, richna_stavka, kilkist_rokiv):\n",
    "    return ((1 + richna_stavka / 100) ** kilkist_rokiv) * potribna_suma"
   ]
  },
  {
   "cell_type": "code",
   "execution_count": null,
   "id": "3d12dceb",
   "metadata": {},
   "outputs": [
    {
     "name": "stdout",
     "output_type": "stream",
     "text": [
      "20000\n"
     ]
    }
   ],
   "source": [
    "def dokhid(income):\n",
    "    if income <= 20000:\n",
    "        return income\n",
    "    elif 20000 < income <= 50000:\n",
    "        return income * 1.1\n",
    "    else:\n",
    "        return income * 1.15\n",
    "print(dokhid(20000))\n",
    "    "
   ]
  },
  {
   "cell_type": "code",
   "execution_count": 29,
   "id": "4c00676a",
   "metadata": {},
   "outputs": [
    {
     "name": "stdout",
     "output_type": "stream",
     "text": [
      "Прибуток: 25000 \n",
      " Витрати: 50000 \n",
      " Дохід: 75000\n"
     ]
    }
   ],
   "source": [
    "def rozrakhunok_zagalnih_vitrat(Q, ATC):\n",
    "    return round(Q * ATC, 2)\n",
    "def rozrakhunok_zagalnogo_dohodu(Q, P):\n",
    "    return round(Q * P, 2)\n",
    "def analiz_pributku(Q, ATC, P):\n",
    "    return round(rozrakhunok_zagalnogo_dohodu(Q, P) - rozrakhunok_zagalnih_vitrat(Q, ATC), 2)\n",
    "print(f\"Прибуток: {analiz_pributku(1000, 50, 75)} \\n Витрати: {rozrakhunok_zagalnih_vitrat(1000, 50)} \\n Дохід: {rozrakhunok_zagalnogo_dohodu(1000,75)}\")\n"
   ]
  },
  {
   "cell_type": "code",
   "execution_count": null,
   "id": "fd4c0f1a",
   "metadata": {},
   "outputs": [],
   "source": [
    "def rozrakhunok_isc(list_3, list_4):\n",
    "    if list_3 != list_4:\n",
    "        return\n",
    "    list_5 = []\n",
    "    for n in range(len(list_3)):\n",
    "        list_5.append(list_3[n] * list_4[n] /100)\n",
    "    sum_ba = round(sum(list_3), 2)\n",
    "    sum_po = round(sum(list_4), 2)\n",
    "    \n"
   ]
  }
 ],
 "metadata": {
  "kernelspec": {
   "display_name": "Python 3",
   "language": "python",
   "name": "python3"
  },
  "language_info": {
   "codemirror_mode": {
    "name": "ipython",
    "version": 3
   },
   "file_extension": ".py",
   "mimetype": "text/x-python",
   "name": "python",
   "nbconvert_exporter": "python",
   "pygments_lexer": "ipython3",
   "version": "3.11.3"
  }
 },
 "nbformat": 4,
 "nbformat_minor": 5
}
